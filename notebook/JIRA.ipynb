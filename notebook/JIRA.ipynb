{
 "cells": [
  {
   "cell_type": "code",
   "execution_count": 14,
   "metadata": {
    "collapsed": true
   },
   "outputs": [],
   "source": [
    "from jira import JIRA\n",
    "import datetime"
   ]
  },
  {
   "cell_type": "code",
   "execution_count": 2,
   "metadata": {
    "collapsed": false
   },
   "outputs": [],
   "source": [
    "jira = JIRA(options={'server': 'http://jira.dev.ofpay.com'},basic_auth=('of2009', 'blake2015@QM'))"
   ]
  },
  {
   "cell_type": "code",
   "execution_count": 3,
   "metadata": {
    "collapsed": true
   },
   "outputs": [],
   "source": [
    "projects = jira.projects()"
   ]
  },
  {
   "cell_type": "code",
   "execution_count": 24,
   "metadata": {
    "collapsed": false
   },
   "outputs": [
    {
     "name": "stdout",
     "output_type": "stream",
     "text": [
      "QMKS\n",
      "吴乾泰\n",
      "个人工作日志\n",
      "<class 'jira.resources.PropertyHolder'>\n"
     ]
    }
   ],
   "source": [
    "issue = jira.issue('QMKS-13734')\n",
    "print issue.fields.project.key\n",
    "print issue.fields.assignee.displayName\n",
    "print issue.fields.summary\n",
    "print issue.fields.worklog"
   ]
  },
  {
   "cell_type": "code",
   "execution_count": 5,
   "metadata": {
    "collapsed": false
   },
   "outputs": [],
   "source": [
    "worklogs = issue.fields.worklog.worklogs\n"
   ]
  },
  {
   "cell_type": "code",
   "execution_count": 6,
   "metadata": {
    "collapsed": false
   },
   "outputs": [
    {
     "data": {
      "text/plain": [
       "15"
      ]
     },
     "execution_count": 6,
     "metadata": {},
     "output_type": "execute_result"
    }
   ],
   "source": [
    "len(worklogs)"
   ]
  },
  {
   "cell_type": "code",
   "execution_count": 22,
   "metadata": {
    "collapsed": false
   },
   "outputs": [
    {
     "name": "stdout",
     "output_type": "stream",
     "text": [
      "12-17\n",
      "熟悉kstore代码\n",
      "12-21\n",
      "对照操作手册，功能思维导图 熟悉kstore2.0 业务\r\n",
      "BOSS端\r\n",
      "- 商家管理\r\n",
      "- 系统设置\r\n",
      "third\r\n",
      "- 新建店铺\n",
      "12-24\n",
      "BOSS\r\n",
      "- 出库\r\n",
      "- 订单\r\n",
      "- 营销 \r\n",
      " - 创建促销\r\n",
      "- 会员\r\n",
      "前台，移动端\r\n",
      "- 订单，购物车相关功能\n",
      "12-25\n",
      "BOSS\r\n",
      "- 会员\r\n",
      "- 营销\r\n",
      "  - 优惠券\r\n",
      "  - 积分商城\r\n",
      "- 统计\r\n",
      "- 移动版\r\n",
      "- 站点\n",
      "12-26\n",
      "third端相关配置\r\n",
      "\r\n",
      "boss\r\n",
      "- 商品审核\r\n",
      "\r\n",
      "查看用户反馈平台的功能，更新\r\n",
      "\n",
      "12-28\n",
      "熟悉业务\r\n",
      "- third 相关功能\r\n",
      "- 商品审核\r\n",
      "- boss 和third 资源（权限，公用。。。）\r\n",
      "\n",
      "12-29\n",
      "站点-模版配置的实现\r\n",
      "- 对应的前台页面，数据库表，配置项的数据流动\r\n",
      "- 前台首页的组装过程\n",
      "12-30\n",
      "- 首页结构，拼装代码\r\n",
      "- 支付流程及其相关代码\r\n",
      "- 定制项目——聚优纵联需求，代码，库表熟悉\n",
      "12-31\n",
      "开发\r\n",
      "- #聚优纵联 品牌授权功能\n",
      "01-04\n",
      "- 聚优纵联 品牌授权功能\r\n",
      "- 学习 java8 stream/FP\n",
      "01-05\n",
      "- juyou 开发=经销商列表 \n",
      "01-06\n",
      "- juyou开发\n",
      "01-07\n",
      "- juyou开发\r\n",
      "- 9:30~11:00 私有云-开会-新激励机制说明\r\n",
      "- 17:00~18:00 DBA分享会\n",
      "01-08\n",
      " juyou 经销商列表 \r\n",
      "熟悉前端结构，数据传输过程\r\n",
      "customer mapper 层修改\r\n",
      "代付模态框\n",
      "01-09\n",
      "2016-01-09 17:30:26\r\n",
      "\r\n",
      "juyou 合伙人——经销商列表\r\n",
      "\r\n",
      "- 条件搜索\r\n",
      "- 代付设置\r\n",
      "- 经销商信息设置\r\n",
      "\r\n",
      "- 模态框——template?gen?try.\n"
     ]
    }
   ],
   "source": [
    "for i in worklogs:\n",
    "    print i.started[5:10]\n",
    "#     print datetime.datetime.strptime(i.started, \"%Y-%m-%d\")\n",
    "#     print i.timeSpent\n",
    "    print i.comment\n"
   ]
  },
  {
   "cell_type": "code",
   "execution_count": null,
   "metadata": {
    "collapsed": true
   },
   "outputs": [],
   "source": []
  },
  {
   "cell_type": "code",
   "execution_count": null,
   "metadata": {
    "collapsed": true
   },
   "outputs": [],
   "source": []
  }
 ],
 "metadata": {
  "kernelspec": {
   "display_name": "Python 2",
   "language": "python",
   "name": "python2"
  },
  "language_info": {
   "codemirror_mode": {
    "name": "ipython",
    "version": 2
   },
   "file_extension": ".py",
   "mimetype": "text/x-python",
   "name": "python",
   "nbconvert_exporter": "python",
   "pygments_lexer": "ipython2",
   "version": "2.7.11"
  }
 },
 "nbformat": 4,
 "nbformat_minor": 0
}

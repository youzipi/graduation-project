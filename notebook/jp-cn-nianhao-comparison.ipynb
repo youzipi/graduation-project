{
 "cells": [
  {
   "cell_type": "markdown",
   "metadata": {},
   "source": [
    "wikipedia:\n",
    "\n",
    "https://zh.wikipedia.org/wiki/日本年號列表\n",
    "\n",
    "https://zh.wikipedia.org/wiki/中国年号列表\n",
    "\n",
    "```js\n",
    "a = $('#mw-content-text > table> tbody > tr > td:nth-child(2) > a');\n",
    "\n",
    "a = $('#mw-content-text > table> tbody > tr > td:nth-child(1) > a');\n",
    "\n",
    "for (i in a){console.log(a[i].innerText)};\n",
    "```\n",
    "浏览器控制台，save as... [xxx.log]"
   ]
  },
  {
   "cell_type": "code",
   "execution_count": 69,
   "metadata": {
    "collapsed": true
   },
   "outputs": [],
   "source": [
    "# -*- coding: utf-8 -*-\n",
    "\n",
    "import pandas as pd\n",
    "import numpy as np"
   ]
  },
  {
   "cell_type": "code",
   "execution_count": 251,
   "metadata": {
    "collapsed": false
   },
   "outputs": [],
   "source": [
    "def render(path):\n",
    "    with open(path,'r') as file:\n",
    "        datas = file.readlines()\n",
    "    str_list = []\n",
    "    length = len(datas)\n",
    "    for i in xrange(length):\n",
    "        b = unicode(datas[i].replace('\\n',''), \"utf-8\")\n",
    "        for j in b:\n",
    "            str_list += j\n",
    "    df = pd.DataFrame(data=str_list,columns=['nianhao'])\n",
    "    return df"
   ]
  },
  {
   "cell_type": "code",
   "execution_count": 252,
   "metadata": {
    "collapsed": false
   },
   "outputs": [],
   "source": [
    "jp_df = render('./japan-nianhao.log')"
   ]
  },
  {
   "cell_type": "code",
   "execution_count": 199,
   "metadata": {
    "collapsed": false
   },
   "outputs": [],
   "source": [
    "a = unicode(jp_datas[0],\"utf-8\")"
   ]
  },
  {
   "cell_type": "code",
   "execution_count": 200,
   "metadata": {
    "collapsed": false
   },
   "outputs": [
    {
     "name": "stdout",
     "output_type": "stream",
     "text": [
      "大化\n",
      "\n"
     ]
    }
   ],
   "source": [
    "a\n",
    "print a"
   ]
  },
  {
   "cell_type": "code",
   "execution_count": 201,
   "metadata": {
    "collapsed": false
   },
   "outputs": [
    {
     "name": "stdout",
     "output_type": "stream",
     "text": [
      "大\n",
      "化\n",
      "\n",
      "\n"
     ]
    }
   ],
   "source": [
    "for i in a:\n",
    "    print i"
   ]
  },
  {
   "cell_type": "code",
   "execution_count": 103,
   "metadata": {
    "collapsed": true
   },
   "outputs": [],
   "source": [
    "a = u'中国'"
   ]
  },
  {
   "cell_type": "code",
   "execution_count": 106,
   "metadata": {
    "collapsed": false
   },
   "outputs": [
    {
     "data": {
      "text/plain": [
       "u'\\u4e2d\\u56fd'"
      ]
     },
     "execution_count": 106,
     "metadata": {},
     "output_type": "execute_result"
    }
   ],
   "source": [
    "a"
   ]
  },
  {
   "cell_type": "code",
   "execution_count": 107,
   "metadata": {
    "collapsed": false
   },
   "outputs": [
    {
     "data": {
      "text/plain": [
       "unicode"
      ]
     },
     "execution_count": 107,
     "metadata": {},
     "output_type": "execute_result"
    }
   ],
   "source": [
    "type(a)"
   ]
  },
  {
   "cell_type": "code",
   "execution_count": 102,
   "metadata": {
    "collapsed": false
   },
   "outputs": [
    {
     "name": "stdout",
     "output_type": "stream",
     "text": [
      "中国\n"
     ]
    }
   ],
   "source": [
    "print a"
   ]
  },
  {
   "cell_type": "code",
   "execution_count": 307,
   "metadata": {
    "collapsed": false
   },
   "outputs": [
    {
     "data": {
      "text/plain": [
       "永    29\n",
       "天    27\n",
       "元    27\n",
       "治    21\n",
       "应    20\n",
       "正    19\n",
       "和    19\n",
       "文    19\n",
       "长    19\n",
       "安    17\n",
       "历    16\n",
       "延    16\n",
       "德    15\n",
       "宽    15\n",
       "保    15\n",
       "承    14\n",
       "仁    13\n",
       "平    12\n",
       "嘉    12\n",
       "康    10\n",
       "宝    10\n",
       "建    10\n",
       "久     9\n",
       "庆     9\n",
       "贞     8\n",
       "享     8\n",
       "弘     8\n",
       "明     7\n",
       "禄     7\n",
       "大     6\n",
       "     ..\n",
       "武     2\n",
       "福     1\n",
       "鸟     1\n",
       "授     1\n",
       "成     1\n",
       "感     1\n",
       "祯     1\n",
       "昭     1\n",
       "乾     1\n",
       "亨     1\n",
       "衡     1\n",
       "白     1\n",
       "吉     1\n",
       "铜     1\n",
       "兴     1\n",
       "灵     1\n",
       "至     1\n",
       "景     1\n",
       "祥     1\n",
       "同     1\n",
       "朱     1\n",
       "胜     1\n",
       "祚     1\n",
       "字     1\n",
       "齐     1\n",
       "泰     1\n",
       "国     1\n",
       "雉     1\n",
       "昌     1\n",
       "老     1\n",
       "Name: nianhao, dtype: int64"
      ]
     },
     "execution_count": 307,
     "metadata": {},
     "output_type": "execute_result"
    }
   ],
   "source": [
    "jp_df[u'nianhao'].value_counts()"
   ]
  },
  {
   "cell_type": "code",
   "execution_count": 243,
   "metadata": {
    "collapsed": false
   },
   "outputs": [
    {
     "data": {
      "text/plain": [
       "506"
      ]
     },
     "execution_count": 243,
     "metadata": {},
     "output_type": "execute_result"
    }
   ],
   "source": [
    "jp_counts = len(jp_df[u'nianhao'].values) # 一共使用了506个字次\n",
    "jp_counts"
   ]
  },
  {
   "cell_type": "code",
   "execution_count": 245,
   "metadata": {
    "collapsed": false
   },
   "outputs": [
    {
     "data": {
      "text/plain": [
       "72"
      ]
     },
     "execution_count": 245,
     "metadata": {},
     "output_type": "execute_result"
    }
   ],
   "source": [
    "jp_words = len(np.unique(jp_df[u'nianhao'].values)) # 一共使用了72个不同的字\n",
    "jp_words"
   ]
  },
  {
   "cell_type": "code",
   "execution_count": 246,
   "metadata": {
    "collapsed": false
   },
   "outputs": [
    {
     "data": {
      "text/plain": [
       "7.027777777777778"
      ]
     },
     "execution_count": 246,
     "metadata": {},
     "output_type": "execute_result"
    }
   ],
   "source": [
    "jp_counts/float(jp_words)"
   ]
  },
  {
   "cell_type": "code",
   "execution_count": 253,
   "metadata": {
    "collapsed": false
   },
   "outputs": [],
   "source": [
    "cn_df = render('./china-nianhao.log')"
   ]
  },
  {
   "cell_type": "code",
   "execution_count": 259,
   "metadata": {
    "collapsed": false
   },
   "outputs": [
    {
     "data": {
      "text/plain": [
       "天    150\n",
       "兴     94\n",
       "建     86\n",
       "平     77\n",
       "永     77\n",
       "元     76\n",
       "大     63\n",
       "德     62\n",
       "太     51\n",
       "和     48\n",
       "Name: nianhao, dtype: int64"
      ]
     },
     "execution_count": 259,
     "metadata": {},
     "output_type": "execute_result"
    }
   ],
   "source": [
    "cn_df[u'nianhao'].value_counts()[:10]"
   ]
  },
  {
   "cell_type": "code",
   "execution_count": 255,
   "metadata": {
    "collapsed": false
   },
   "outputs": [
    {
     "data": {
      "text/plain": [
       "2361"
      ]
     },
     "execution_count": 255,
     "metadata": {},
     "output_type": "execute_result"
    }
   ],
   "source": [
    "cn_counts = len(cn_df[u'nianhao'].values) \n",
    "cn_counts"
   ]
  },
  {
   "cell_type": "code",
   "execution_count": 258,
   "metadata": {
    "collapsed": false
   },
   "outputs": [
    {
     "data": {
      "text/plain": [
       "273"
      ]
     },
     "execution_count": 258,
     "metadata": {},
     "output_type": "execute_result"
    }
   ],
   "source": [
    "cn_words = len(np.unique(cn_df[u'nianhao'].values)) \n",
    "cn_words"
   ]
  },
  {
   "cell_type": "code",
   "execution_count": 270,
   "metadata": {
    "collapsed": false
   },
   "outputs": [
    {
     "data": {
      "text/plain": [
       "8.648351648351648"
      ]
     },
     "execution_count": 270,
     "metadata": {},
     "output_type": "execute_result"
    }
   ],
   "source": [
    "cn_counts/float(cn_words)"
   ]
  },
  {
   "cell_type": "code",
   "execution_count": 276,
   "metadata": {
    "collapsed": false
   },
   "outputs": [],
   "source": [
    "cn_unique_words = pd.DataFrame(data=np.unique(cn_df[u'nianhao'].values),columns=['nianhao'])"
   ]
  },
  {
   "cell_type": "code",
   "execution_count": 277,
   "metadata": {
    "collapsed": true
   },
   "outputs": [],
   "source": [
    "jp_unique_words = pd.DataFrame(data=np.unique(jp_df[u'nianhao'].values),columns=['nianhao'])"
   ]
  },
  {
   "cell_type": "code",
   "execution_count": 291,
   "metadata": {
    "collapsed": true
   },
   "outputs": [
    {
     "name": "stdout",
     "output_type": "stream",
     "text": [
      "Index([(u'万',), (u'中',), (u'久',), (u'乾',), (u'云',), (u'亨',), (u'享',), (u'仁',),\n",
      "       (u'保',), (u'元',), (u'兴',), (u'养',), (u'化',), (u'历',), (u'吉',), (u'同',),\n",
      "       (u'和',), (u'喜',), (u'嘉',), (u'国',), (u'大',), (u'天',), (u'字',), (u'安',),\n",
      "       (u'宝',), (u'宽',), (u'寿',), (u'平',), (u'庆',), (u'应',), (u'康',), (u'延',),\n",
      "       (u'建',), (u'弘',), (u'德',), (u'感',), (u'成',), (u'承',), (u'护',), (u'授',),\n",
      "       (u'政',), (u'文',), (u'昌',), (u'明',), (u'昭',), (u'景',), (u'朱',), (u'正',),\n",
      "       (u'武',), (u'永',), (u'治',), (u'泰',), (u'灵',), (u'白',), (u'祚',), (u'神',),\n",
      "       (u'祥',), (u'祯',), (u'禄',), (u'福',), (u'老',), (u'胜',), (u'至',), (u'衡',),\n",
      "       (u'观',), (u'贞',), (u'铜',), (u'长',), (u'雉',), (u'鸟',), (u'齐',), (u'龟',)],\n",
      "      dtype='object')\n",
      "Index([(u'䴥',), (u'丁',), (u'万',), (u'上',), (u'丑',), (u'世',), (u'业',), (u'东',),\n",
      "       (u'中',), (u'丰',),\n",
      "       ...\n",
      "       (u'鲁',), (u'鸟',), (u'鸣',), (u'鸿',), (u'麟',), (u'黄',), (u'黑',), (u'鼎',),\n",
      "       (u'龙',), (u'龟',)],\n",
      "      dtype='object', length=273)\n"
     ]
    }
   ],
   "source": [
    "jp_index = pd.Index(jp_unique_words)\n",
    "print jp_index\n",
    "cn_index = pd.Index(cn_unique_words)\n",
    "print cn_index"
   ]
  },
  {
   "cell_type": "code",
   "execution_count": 302,
   "metadata": {
    "collapsed": false
   },
   "outputs": [
    {
     "name": "stdout",
     "output_type": "stream",
     "text": [
      "Index([(u'万',), (u'中',), (u'久',), (u'乾',), (u'云',), (u'亨',), (u'仁',), (u'保',),\n",
      "       (u'元',), (u'兴',), (u'化',), (u'历',), (u'同',), (u'和',), (u'嘉',), (u'国',),\n",
      "       (u'大',), (u'天',), (u'安',), (u'宝',), (u'寿',), (u'平',), (u'庆',), (u'应',),\n",
      "       (u'康',), (u'延',), (u'建',), (u'弘',), (u'德',), (u'成',), (u'承',), (u'授',),\n",
      "       (u'政',), (u'文',), (u'昌',), (u'明',), (u'昭',), (u'景',), (u'朱',), (u'正',),\n",
      "       (u'武',), (u'永',), (u'治',), (u'泰',), (u'白',), (u'祚',), (u'神',), (u'祥',),\n",
      "       (u'祯',), (u'禄',), (u'福',), (u'胜',), (u'至',), (u'衡',), (u'观',), (u'贞',),\n",
      "       (u'长',), (u'鸟',), (u'龟',)],\n",
      "      dtype='object')\n",
      "59\n"
     ]
    }
   ],
   "source": [
    "both = cn_index.intersection(jp_index)\n",
    "print both\n",
    "print both.size"
   ]
  },
  {
   "cell_type": "code",
   "execution_count": 305,
   "metadata": {
    "collapsed": false
   },
   "outputs": [
    {
     "name": "stdout",
     "output_type": "stream",
     "text": [
      "Index([u'享', u'养', u'吉', u'喜', u'字', u'宽', u'感', u'护', u'灵', u'老', u'铜', u'雉',\n",
      "       u'齐'],\n",
      "      dtype='object')\n",
      "13\n"
     ]
    }
   ],
   "source": [
    "jp_only = jp_index.difference(cn_index)\n",
    "print jp_only\n",
    "print jp_only.size"
   ]
  },
  {
   "cell_type": "code",
   "execution_count": null,
   "metadata": {
    "collapsed": true
   },
   "outputs": [],
   "source": []
  }
 ],
 "metadata": {
  "kernelspec": {
   "display_name": "Python 2",
   "language": "python",
   "name": "python2"
  },
  "language_info": {
   "codemirror_mode": {
    "name": "ipython",
    "version": 2
   },
   "file_extension": ".py",
   "mimetype": "text/x-python",
   "name": "python",
   "nbconvert_exporter": "python",
   "pygments_lexer": "ipython2",
   "version": "2.7.11"
  }
 },
 "nbformat": 4,
 "nbformat_minor": 0
}
